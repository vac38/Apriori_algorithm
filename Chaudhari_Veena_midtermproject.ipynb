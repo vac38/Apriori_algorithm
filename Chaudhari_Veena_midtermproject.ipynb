{
 "cells": [
  {
   "cell_type": "markdown",
   "id": "cognitive-indiana",
   "metadata": {},
   "source": [
    "## Topic: Apriori algorithm, generate and print out all the association rules.\n",
    "\n",
    "#### Name: Veena Chaudhari\n",
    "\n",
    "#### Subject: CS 634 Data mining\n"
   ]
  },
  {
   "cell_type": "markdown",
   "id": "married-sector",
   "metadata": {},
   "source": [
    "## Loading Libraries"
   ]
  },
  {
   "cell_type": "code",
   "execution_count": 1,
   "id": "arbitrary-message",
   "metadata": {},
   "outputs": [],
   "source": [
    "#importing all libraries\n",
    "import pandas as pd\n",
    "import numpy as np\n",
    "import csv\n",
    "from itertools import combinations"
   ]
  },
  {
   "cell_type": "markdown",
   "id": "daily-infrastructure",
   "metadata": {},
   "source": [
    "## Defining functions"
   ]
  },
  {
   "cell_type": "code",
   "execution_count": 2,
   "id": "portuguese-worst",
   "metadata": {},
   "outputs": [],
   "source": [
    "# For loading data and creating a list of items\n",
    "def data_prep(file):\n",
    "    df = pd.read_csv(file).iloc[:,1:]\n",
    "    data1 = dict()\n",
    "    for i, row in df.iterrows():\n",
    "        data1[i] = list(row)\n",
    "        \n",
    "    listed = list(data1.values())\n",
    "    unique_list = np.unique(np.concatenate(listed))[np.unique(np.concatenate(listed)) != 'nan']\n",
    "    oneitem_list = {key: None for key in unique_list}\n",
    "    return oneitem_list, data1\n",
    "    "
   ]
  },
  {
   "cell_type": "code",
   "execution_count": 3,
   "id": "olive-finance",
   "metadata": {},
   "outputs": [],
   "source": [
    "# Create itemset for specified number of combinations\n",
    "def create_itemset(k,itemset):\n",
    "    unique_itemset = np.unique(list(itemset.keys()))\n",
    "    items_list = list(combinations(unique_itemset, k))\n",
    "    return items_list"
   ]
  },
  {
   "cell_type": "code",
   "execution_count": 4,
   "id": "adolescent-masters",
   "metadata": {},
   "outputs": [],
   "source": [
    "#Calculate the frequency of each itemset (1, 2, 3, itemsets) by checking the number of transactions in the database\n",
    "def frequency (item_list, data):\n",
    "    itemset_count = dict()\n",
    "    for i in range(len(item_list)):\n",
    "        counter = 0\n",
    "        for j in range(len(data)):\n",
    "            if all(elem in data[j] for elem in item_list[i]):\n",
    "                counter += 1\n",
    "        itemset_count[item_list[i]] = counter\n",
    "    return itemset_count"
   ]
  },
  {
   "cell_type": "code",
   "execution_count": 5,
   "id": "cardiovascular-reflection",
   "metadata": {},
   "outputs": [],
   "source": [
    "# Check if itemset are superset of previously removed transactionc\n",
    "def check_if_superset(itemset, previ, n):\n",
    "    if n>2:    \n",
    "        subsets = list(combinations(itemset, (n-1)))\n",
    "        if any(elem in previ for elem in subsets):\n",
    "            return False\n",
    "    return True"
   ]
  },
  {
   "cell_type": "code",
   "execution_count": 6,
   "id": "functional-university",
   "metadata": {},
   "outputs": [],
   "source": [
    "# Check if the itemset satisfy specified minimum support\n",
    "def min_support(item_freq, data,min_sup, n,previous_removed):\n",
    "    min_sup = min_sup/100\n",
    "    length = len(data)\n",
    "    return_item = {}\n",
    "    removed_item = []\n",
    "    for key, value in item_freq.items():\n",
    "        if value/length < min_sup:\n",
    "            removed_item.append(key)\n",
    "        else:\n",
    "             if check_if_superset(key, previous_removed, n) == True :\n",
    "                    return_item[key] = value\n",
    "             \n",
    "    return return_item, removed_item"
   ]
  },
  {
   "cell_type": "code",
   "execution_count": 7,
   "id": "recorded-disaster",
   "metadata": {},
   "outputs": [],
   "source": [
    "# Main Function to calculate all item sets and print rules\n",
    "def main(file,minimum_support, minimum_confidence):\n",
    "    min_confidence = minimum_confidence/100 \n",
    "    itemlist, data = data_prep(file)\n",
    "    \n",
    "    # 1-item_set\n",
    "    prev = []\n",
    "    one_item_min ={}\n",
    "    one_item_list = create_itemset(1,itemlist)\n",
    "    one_item_freq = frequency(one_item_list, data)\n",
    "    one_min, removed_item_1 = min_support(one_item_freq, data, minimum_support, 1,prev)\n",
    "    for keys, values in one_min.items():\n",
    "        one_item_min[keys[0]] = values\n",
    "\n",
    "    # 2 item-set\n",
    "    two_item_list = create_itemset(2,one_item_min)\n",
    "    two_item_freq = frequency(two_item_list, data)\n",
    "    two_item_min, removed_item_2 = min_support(two_item_freq, data, minimum_support, 2, removed_item_1)\n",
    "\n",
    "    # 3 item-set\n",
    "    three_item_list = create_itemset(3,two_item_min)\n",
    "    three_item_freq = frequency(three_item_list, data)\n",
    "    three_item_min, removed_item_3 = min_support(three_item_freq, data, minimum_support, 3,removed_item_2)\n",
    "\n",
    "    #four item-set\n",
    "    four_item_list = create_itemset(4,three_item_min)\n",
    "    four_item_freq = frequency(four_item_list, data)\n",
    "    four_item_min, removed_item_4 = min_support(four_item_freq, data, minimum_support, 4,removed_item_3)\n",
    "\n",
    "    itemset_all = {**one_item_min, **two_item_min, **three_item_min, **four_item_min} \n",
    "    \n",
    "# For printing all association rules for two itemset\n",
    "    printing = pd.DataFrame()\n",
    "    for i in two_item_min:\n",
    "            confidence_1 = np.round (itemset_all[i]/itemset_all[i[0]], decimals = 2)\n",
    "            confidence_2 = np.round (itemset_all[i]/itemset_all[i[1]], decimals = 2)\n",
    "            if confidence_1 > min_confidence:\n",
    "                new_row_2_1 = {'Antecedent' : i[0],'Consequent' : i[1],'Rule_Confidence' : confidence_1 }\n",
    "                printing = printing.append(new_row_2_1, ignore_index=True)\n",
    "            else: \n",
    "                pass\n",
    "            if confidence_2 > min_confidence:\n",
    "                new_row_2_2 = {'Antecedent' : i[1],'Consequent' : i[0],'Rule_Confidence' : confidence_2 }\n",
    "                printing = printing.append(new_row_2_2, ignore_index=True)\n",
    "            else: \n",
    "                pass\n",
    "#printing all association rules for three itemset\n",
    "    for i in three_item_min:\n",
    "        combos = list(combinations(i, 2))\n",
    "        for j in combos:\n",
    "            confidence = np.round(itemset_all[i]/itemset_all[j], decimals = 2)\n",
    "            if confidence > min_confidence:\n",
    "                trans2 = list(set(i) - set(j))\n",
    "                new_row_3 = {'Antecedent' : j,'Consequent':trans2,'Rule_Confidence' : confidence }\n",
    "                printing = printing.append(new_row_3, ignore_index=True)\n",
    "            else: \n",
    "                pass\n",
    "#printing all association rules for four itemset            \n",
    "    for i in four_item_min:\n",
    "        combos = list(combinations(i, 3))\n",
    "        for j in combos:\n",
    "            confidence = np.round(itemset_all[i]/itemset_all[j], decimals = 2)\n",
    "            if confidence > min_confidence:\n",
    "                trans2 = list(set(i) - set(j))\n",
    "                new_row_4 = {'Antecedent' : j,'Consequent':trans2,'Rule_Confidence' : confidence }\n",
    "                printing = printing.append(new_row_4, ignore_index=True)\n",
    "            else: \n",
    "                pass    \n",
    "    \n",
    "    return itemset_all,printing"
   ]
  },
  {
   "cell_type": "markdown",
   "id": "configured-eligibility",
   "metadata": {},
   "source": [
    "## Determining Association Rules for K-Mart"
   ]
  },
  {
   "cell_type": "markdown",
   "id": "registered-grocery",
   "metadata": {},
   "source": [
    "#### Running Kmart dataset with support 40% and confidence 50%"
   ]
  },
  {
   "cell_type": "code",
   "execution_count": 8,
   "id": "infinite-continent",
   "metadata": {},
   "outputs": [
    {
     "name": "stdout",
     "output_type": "stream",
     "text": [
      "***************** KMART *****************\n",
      "\n",
      " All association rules for Kmart with support = 40 and Confidence = 50 \n",
      "\n",
      "                    Antecedent      Consequent  Rule_Confidence\n",
      "0                   Bed Skirts    Kids Bedding             0.91\n",
      "1                 Kids Bedding      Bed Skirts             0.83\n",
      "2                   Bed Skirts           Shams             0.82\n",
      "3                        Shams      Bed Skirts             0.82\n",
      "4                   Bed Skirts          Sheets             0.82\n",
      "5                       Sheets      Bed Skirts             0.90\n",
      "6                 Kids Bedding           Shams             0.75\n",
      "7                        Shams    Kids Bedding             0.82\n",
      "8                 Kids Bedding          Sheets             0.83\n",
      "9                       Sheets    Kids Bedding             1.00\n",
      "10  (Bed Skirts, Kids Bedding)         [Shams]             0.80\n",
      "11         (Bed Skirts, Shams)  [Kids Bedding]             0.89\n",
      "12       (Kids Bedding, Shams)    [Bed Skirts]             0.89\n",
      "13  (Bed Skirts, Kids Bedding)        [Sheets]             0.90\n",
      "14        (Bed Skirts, Sheets)  [Kids Bedding]             1.00\n",
      "15      (Kids Bedding, Sheets)    [Bed Skirts]             0.90 \n",
      "\n",
      "---------------------------------------------------------------------\n",
      "\n",
      "Final Association Rules for Kmart with support = 40 and Confidence = 50 \n",
      "\n",
      "1) Bed Skirts --> Kids Bedding \n",
      "2) Kids Bedding --> Bed Skirts \n",
      "3) Bed Skirts --> Shams \n",
      "4) Shams --> Bed Skirts \n",
      "5) Bed Skirts --> Sheets \n",
      "6) Sheets --> Bed Skirts \n",
      "7) Kids Bedding --> Shams \n",
      "8) Shams --> Kids Bedding \n",
      "9) Kids Bedding --> Sheets \n",
      "10) Sheets --> Kids Bedding \n",
      "11) ('Bed Skirts', 'Kids Bedding') --> ['Shams'] \n",
      "12) ('Bed Skirts', 'Shams') --> ['Kids Bedding'] \n",
      "13) ('Kids Bedding', 'Shams') --> ['Bed Skirts'] \n",
      "14) ('Bed Skirts', 'Kids Bedding') --> ['Sheets'] \n",
      "15) ('Bed Skirts', 'Sheets') --> ['Kids Bedding'] \n",
      "16) ('Kids Bedding', 'Sheets') --> ['Bed Skirts'] \n"
     ]
    }
   ],
   "source": [
    "#File for dataset\n",
    "kmart = '/Users/veena/Desktop/Dmining/Projects/Datasets/K-mart.csv'\n",
    "#Specify minimum support\n",
    "minimum_support = 40\n",
    "#Specify minimum confidence\n",
    "minimum_confidence = 50\n",
    "\n",
    "#To determine association rules, the abover parameters(minimum support and confidence) are passed to main function alogn with the datset\n",
    "for_rules,rules_kmart_1 = main(kmart,minimum_support,minimum_confidence)\n",
    "\n",
    "print('***************** KMART *****************')\n",
    "#Printing all Rules which satify mininmum confidence criterion. Rules: Tansactiona --> Transaction \n",
    "print('\\n All association rules for Kmart with support = {} and Confidence = {} \\n' .format(minimum_support, minimum_confidence))\n",
    "print(rules_kmart_1,'\\n')\n",
    "print('---------------------------------------------------------------------\\n')\n",
    "#Printing Final association rules in format A,B --> C\n",
    "print(\"Final Association Rules for Kmart with support = {} and Confidence = {} \\n\" .format(minimum_support, minimum_confidence))\n",
    "for i in range(len(rules_kmart_1['Rule_Confidence'])):\n",
    "    print (\"{}) {} --> {} \".format(i+1, rules_kmart_1['Antecedent'][i],rules_kmart_1['Consequent'][i]))"
   ]
  },
  {
   "cell_type": "markdown",
   "id": "varying-specialist",
   "metadata": {},
   "source": [
    "#### Running Kmart dataset with support 50% and confidence 75%"
   ]
  },
  {
   "cell_type": "code",
   "execution_count": 9,
   "id": "downtown-weather",
   "metadata": {},
   "outputs": [
    {
     "name": "stdout",
     "output_type": "stream",
     "text": [
      "\n",
      " All association rules for Kmart with support = 50 and Confidence = 75 \n",
      "\n",
      "     Antecedent    Consequent  Rule_Confidence\n",
      "0    Bed Skirts  Kids Bedding             0.91\n",
      "1  Kids Bedding    Bed Skirts             0.83\n",
      "2  Kids Bedding        Sheets             0.83\n",
      "3        Sheets  Kids Bedding             1.00 \n",
      "\n",
      "---------------------------------------------------------------------\n",
      "\n",
      "Final Association Rules for Kmart with support = 50 and Confidence = 75 \n",
      "\n",
      "1) Bed Skirts --> Kids Bedding \n",
      "2) Kids Bedding --> Bed Skirts \n",
      "3) Kids Bedding --> Sheets \n",
      "4) Sheets --> Kids Bedding \n"
     ]
    }
   ],
   "source": [
    "#Specify minimum support\n",
    "minimum_support = 50\n",
    "#Specify minimum confidence\n",
    "minimum_confidence = 75\n",
    "\n",
    "#To determine association rules, the abover parameters(minimum support and confidence) are passed to main function alogn with the datset\n",
    "for_rules,rules_kmart = main(kmart,minimum_support,minimum_confidence)\n",
    "\n",
    "#Printing all Rules which satify mininmum confidence criterion. Rules: Tansactiona --> Transaction \n",
    "print('\\n All association rules for Kmart with support = {} and Confidence = {} \\n' .format(minimum_support, minimum_confidence))\n",
    "print(rules_kmart,'\\n')\n",
    "print('---------------------------------------------------------------------\\n')\n",
    "#Printing Final association rules in format A,B --> C\n",
    "print(\"Final Association Rules for Kmart with support = {} and Confidence = {} \\n\" .format(minimum_support, minimum_confidence))\n",
    "for i in range(len(rules_kmart['Rule_Confidence'])):\n",
    "    print (\"{}) {} --> {} \".format(i+1, rules_kmart['Antecedent'][i],rules_kmart['Consequent'][i]))"
   ]
  },
  {
   "cell_type": "markdown",
   "id": "retained-giant",
   "metadata": {},
   "source": [
    "#### Running Kmart dataset with support 30% and confidence 90%"
   ]
  },
  {
   "cell_type": "code",
   "execution_count": 10,
   "id": "major-presentation",
   "metadata": {},
   "outputs": [
    {
     "name": "stdout",
     "output_type": "stream",
     "text": [
      "\n",
      " All association rules for Kmart with support = 30 and Confidence = 90 \n",
      "\n",
      "                                Antecedent      Consequent  Rule_Confidence\n",
      "0                               Bedspreads      Bed Skirts             1.00\n",
      "1                               Bed Skirts    Kids Bedding             0.91\n",
      "2                               Bedspreads    Kids Bedding             1.00\n",
      "3                               Bedspreads          Sheets             1.00\n",
      "4                                   Sheets    Kids Bedding             1.00\n",
      "5                 (Bed Skirts, Bedspreads)  [Kids Bedding]             1.00\n",
      "6               (Bedspreads, Kids Bedding)    [Bed Skirts]             1.00\n",
      "7                 (Bed Skirts, Bedspreads)        [Sheets]             1.00\n",
      "8                     (Bedspreads, Sheets)    [Bed Skirts]             1.00\n",
      "9                     (Bed Skirts, Sheets)  [Kids Bedding]             1.00\n",
      "10                         (Shams, Sheets)    [Bed Skirts]             1.00\n",
      "11              (Bedspreads, Kids Bedding)        [Sheets]             1.00\n",
      "12                    (Bedspreads, Sheets)  [Kids Bedding]             1.00\n",
      "13                         (Shams, Sheets)  [Kids Bedding]             1.00\n",
      "14  (Bed Skirts, Bedspreads, Kids Bedding)        [Sheets]             1.00\n",
      "15        (Bed Skirts, Bedspreads, Sheets)  [Kids Bedding]             1.00\n",
      "16      (Bedspreads, Kids Bedding, Sheets)    [Bed Skirts]             1.00\n",
      "17             (Bed Skirts, Shams, Sheets)  [Kids Bedding]             1.00\n",
      "18           (Kids Bedding, Shams, Sheets)    [Bed Skirts]             1.00 \n",
      "\n",
      "---------------------------------------------------------------------\n",
      "\n",
      "Final Association Rules for Kmart with support = 30 and Confidence = 90 \n",
      "\n",
      "1) Bedspreads --> Bed Skirts \n",
      "2) Bed Skirts --> Kids Bedding \n",
      "3) Bedspreads --> Kids Bedding \n",
      "4) Bedspreads --> Sheets \n",
      "5) Sheets --> Kids Bedding \n",
      "6) ('Bed Skirts', 'Bedspreads') --> ['Kids Bedding'] \n",
      "7) ('Bedspreads', 'Kids Bedding') --> ['Bed Skirts'] \n",
      "8) ('Bed Skirts', 'Bedspreads') --> ['Sheets'] \n",
      "9) ('Bedspreads', 'Sheets') --> ['Bed Skirts'] \n",
      "10) ('Bed Skirts', 'Sheets') --> ['Kids Bedding'] \n",
      "11) ('Shams', 'Sheets') --> ['Bed Skirts'] \n",
      "12) ('Bedspreads', 'Kids Bedding') --> ['Sheets'] \n",
      "13) ('Bedspreads', 'Sheets') --> ['Kids Bedding'] \n",
      "14) ('Shams', 'Sheets') --> ['Kids Bedding'] \n",
      "15) ('Bed Skirts', 'Bedspreads', 'Kids Bedding') --> ['Sheets'] \n",
      "16) ('Bed Skirts', 'Bedspreads', 'Sheets') --> ['Kids Bedding'] \n",
      "17) ('Bedspreads', 'Kids Bedding', 'Sheets') --> ['Bed Skirts'] \n",
      "18) ('Bed Skirts', 'Shams', 'Sheets') --> ['Kids Bedding'] \n",
      "19) ('Kids Bedding', 'Shams', 'Sheets') --> ['Bed Skirts'] \n"
     ]
    }
   ],
   "source": [
    "#Specify minimum support\n",
    "minimum_support = 30\n",
    "#Specify minimum confidence\n",
    "minimum_confidence = 90\n",
    "\n",
    "#To determine association rules, the abover parameters(minimum support and confidence) are passed to main function alogn with the datset\n",
    "for_rules,rules_kmart = main(kmart,minimum_support,minimum_confidence)\n",
    "\n",
    "#Printing all Rules which satify mininmum confidence criterion. Rules: Tansactiona --> Transaction \n",
    "print('\\n All association rules for Kmart with support = {} and Confidence = {} \\n' .format(minimum_support, minimum_confidence))\n",
    "print(rules_kmart,'\\n')\n",
    "print('---------------------------------------------------------------------\\n')\n",
    "#Printing Final association rules in format A,B --> C\n",
    "print(\"Final Association Rules for Kmart with support = {} and Confidence = {} \\n\" .format(minimum_support, minimum_confidence))\n",
    "for i in range(len(rules_kmart['Rule_Confidence'])):\n",
    "    print (\"{}) {} --> {} \".format(i+1, rules_kmart['Antecedent'][i],rules_kmart['Consequent'][i]))"
   ]
  },
  {
   "cell_type": "markdown",
   "id": "alternative-habitat",
   "metadata": {},
   "source": [
    "#### Running Kmart dataset with support 35% and confidence 60%"
   ]
  },
  {
   "cell_type": "code",
   "execution_count": 11,
   "id": "massive-jefferson",
   "metadata": {},
   "outputs": [
    {
     "name": "stdout",
     "output_type": "stream",
     "text": [
      "\n",
      " All association rules for Kmart with support = 35 and Confidence = 60 \n",
      "\n",
      "                                Antecedent      Consequent  Rule_Confidence\n",
      "0                               Bed Skirts      Bedspreads             0.64\n",
      "1                               Bedspreads      Bed Skirts             1.00\n",
      "2                               Bed Skirts    Kids Bedding             0.91\n",
      "3                             Kids Bedding      Bed Skirts             0.83\n",
      "4                               Bed Skirts           Shams             0.82\n",
      "5                                    Shams      Bed Skirts             0.82\n",
      "6                               Bed Skirts          Sheets             0.82\n",
      "7                                   Sheets      Bed Skirts             0.90\n",
      "8                               Bedspreads    Kids Bedding             1.00\n",
      "9                               Bedspreads          Sheets             1.00\n",
      "10                                  Sheets      Bedspreads             0.70\n",
      "11                            Kids Bedding           Shams             0.75\n",
      "12                                   Shams    Kids Bedding             0.82\n",
      "13                            Kids Bedding          Sheets             0.83\n",
      "14                                  Sheets    Kids Bedding             1.00\n",
      "15                                   Shams          Sheets             0.64\n",
      "16                                  Sheets           Shams             0.70\n",
      "17                (Bed Skirts, Bedspreads)  [Kids Bedding]             1.00\n",
      "18              (Bed Skirts, Kids Bedding)    [Bedspreads]             0.70\n",
      "19              (Bedspreads, Kids Bedding)    [Bed Skirts]             1.00\n",
      "20                (Bed Skirts, Bedspreads)        [Sheets]             1.00\n",
      "21                    (Bed Skirts, Sheets)    [Bedspreads]             0.78\n",
      "22                    (Bedspreads, Sheets)    [Bed Skirts]             1.00\n",
      "23              (Bed Skirts, Kids Bedding)         [Shams]             0.80\n",
      "24                     (Bed Skirts, Shams)  [Kids Bedding]             0.89\n",
      "25                   (Kids Bedding, Shams)    [Bed Skirts]             0.89\n",
      "26              (Bed Skirts, Kids Bedding)        [Sheets]             0.90\n",
      "27                    (Bed Skirts, Sheets)  [Kids Bedding]             1.00\n",
      "28                  (Kids Bedding, Sheets)    [Bed Skirts]             0.90\n",
      "29                     (Bed Skirts, Shams)        [Sheets]             0.78\n",
      "30                    (Bed Skirts, Sheets)         [Shams]             0.78\n",
      "31                         (Shams, Sheets)    [Bed Skirts]             1.00\n",
      "32              (Bedspreads, Kids Bedding)        [Sheets]             1.00\n",
      "33                    (Bedspreads, Sheets)  [Kids Bedding]             1.00\n",
      "34                  (Kids Bedding, Sheets)    [Bedspreads]             0.70\n",
      "35                   (Kids Bedding, Shams)        [Sheets]             0.78\n",
      "36                  (Kids Bedding, Sheets)         [Shams]             0.70\n",
      "37                         (Shams, Sheets)  [Kids Bedding]             1.00\n",
      "38  (Bed Skirts, Bedspreads, Kids Bedding)        [Sheets]             1.00\n",
      "39        (Bed Skirts, Bedspreads, Sheets)  [Kids Bedding]             1.00\n",
      "40      (Bed Skirts, Kids Bedding, Sheets)    [Bedspreads]             0.78\n",
      "41      (Bedspreads, Kids Bedding, Sheets)    [Bed Skirts]             1.00\n",
      "42       (Bed Skirts, Kids Bedding, Shams)        [Sheets]             0.88\n",
      "43      (Bed Skirts, Kids Bedding, Sheets)         [Shams]             0.78\n",
      "44             (Bed Skirts, Shams, Sheets)  [Kids Bedding]             1.00\n",
      "45           (Kids Bedding, Shams, Sheets)    [Bed Skirts]             1.00 \n",
      "\n",
      "---------------------------------------------------------------------\n",
      "\n",
      "Final Association Rules for Kmart with support = 35 and Confidence = 60 \n",
      "\n",
      "1) Bed Skirts --> Bedspreads \n",
      "2) Bedspreads --> Bed Skirts \n",
      "3) Bed Skirts --> Kids Bedding \n",
      "4) Kids Bedding --> Bed Skirts \n",
      "5) Bed Skirts --> Shams \n",
      "6) Shams --> Bed Skirts \n",
      "7) Bed Skirts --> Sheets \n",
      "8) Sheets --> Bed Skirts \n",
      "9) Bedspreads --> Kids Bedding \n",
      "10) Bedspreads --> Sheets \n",
      "11) Sheets --> Bedspreads \n",
      "12) Kids Bedding --> Shams \n",
      "13) Shams --> Kids Bedding \n",
      "14) Kids Bedding --> Sheets \n",
      "15) Sheets --> Kids Bedding \n",
      "16) Shams --> Sheets \n",
      "17) Sheets --> Shams \n",
      "18) ('Bed Skirts', 'Bedspreads') --> ['Kids Bedding'] \n",
      "19) ('Bed Skirts', 'Kids Bedding') --> ['Bedspreads'] \n",
      "20) ('Bedspreads', 'Kids Bedding') --> ['Bed Skirts'] \n",
      "21) ('Bed Skirts', 'Bedspreads') --> ['Sheets'] \n",
      "22) ('Bed Skirts', 'Sheets') --> ['Bedspreads'] \n",
      "23) ('Bedspreads', 'Sheets') --> ['Bed Skirts'] \n",
      "24) ('Bed Skirts', 'Kids Bedding') --> ['Shams'] \n",
      "25) ('Bed Skirts', 'Shams') --> ['Kids Bedding'] \n",
      "26) ('Kids Bedding', 'Shams') --> ['Bed Skirts'] \n",
      "27) ('Bed Skirts', 'Kids Bedding') --> ['Sheets'] \n",
      "28) ('Bed Skirts', 'Sheets') --> ['Kids Bedding'] \n",
      "29) ('Kids Bedding', 'Sheets') --> ['Bed Skirts'] \n",
      "30) ('Bed Skirts', 'Shams') --> ['Sheets'] \n",
      "31) ('Bed Skirts', 'Sheets') --> ['Shams'] \n",
      "32) ('Shams', 'Sheets') --> ['Bed Skirts'] \n",
      "33) ('Bedspreads', 'Kids Bedding') --> ['Sheets'] \n",
      "34) ('Bedspreads', 'Sheets') --> ['Kids Bedding'] \n",
      "35) ('Kids Bedding', 'Sheets') --> ['Bedspreads'] \n",
      "36) ('Kids Bedding', 'Shams') --> ['Sheets'] \n",
      "37) ('Kids Bedding', 'Sheets') --> ['Shams'] \n",
      "38) ('Shams', 'Sheets') --> ['Kids Bedding'] \n",
      "39) ('Bed Skirts', 'Bedspreads', 'Kids Bedding') --> ['Sheets'] \n",
      "40) ('Bed Skirts', 'Bedspreads', 'Sheets') --> ['Kids Bedding'] \n",
      "41) ('Bed Skirts', 'Kids Bedding', 'Sheets') --> ['Bedspreads'] \n",
      "42) ('Bedspreads', 'Kids Bedding', 'Sheets') --> ['Bed Skirts'] \n",
      "43) ('Bed Skirts', 'Kids Bedding', 'Shams') --> ['Sheets'] \n",
      "44) ('Bed Skirts', 'Kids Bedding', 'Sheets') --> ['Shams'] \n",
      "45) ('Bed Skirts', 'Shams', 'Sheets') --> ['Kids Bedding'] \n",
      "46) ('Kids Bedding', 'Shams', 'Sheets') --> ['Bed Skirts'] \n"
     ]
    }
   ],
   "source": [
    "#Specify minimum support\n",
    "minimum_support = 35\n",
    "#Specify minimum confidence\n",
    "minimum_confidence = 60\n",
    "\n",
    "#To determine association rules, the abover parameters(minimum support and confidence) are passed to main function alogn with the datset\n",
    "for_rules,rules_kmart = main(kmart,minimum_support,minimum_confidence)\n",
    "\n",
    "#Printing all Rules which satify mininmum confidence criterion. Rules: Tansactiona --> Transaction \n",
    "print('\\n All association rules for Kmart with support = {} and Confidence = {} \\n' .format(minimum_support, minimum_confidence))\n",
    "print(rules_kmart,'\\n')\n",
    "print('---------------------------------------------------------------------\\n')\n",
    "#Printing Final association rules in format A,B --> C\n",
    "print(\"Final Association Rules for Kmart with support = {} and Confidence = {} \\n\" .format(minimum_support, minimum_confidence))\n",
    "for i in range(len(rules_kmart['Rule_Confidence'])):\n",
    "    print (\"{}) {} --> {} \".format(i+1, rules_kmart['Antecedent'][i],rules_kmart['Consequent'][i]))"
   ]
  },
  {
   "cell_type": "markdown",
   "id": "honest-today",
   "metadata": {},
   "source": [
    "## Determining Association Rules for Best_buy"
   ]
  },
  {
   "cell_type": "markdown",
   "id": "actual-perry",
   "metadata": {},
   "source": [
    "#### Running Best Buy dataset with support 40% and confidence 90%"
   ]
  },
  {
   "cell_type": "code",
   "execution_count": 12,
   "id": "encouraging-fundamental",
   "metadata": {},
   "outputs": [
    {
     "name": "stdout",
     "output_type": "stream",
     "text": [
      "***************** BEST BUY *****************\n",
      "\n",
      "\n",
      " All association rules for Best buy with support = 40 and Confidence = 90 \n",
      "\n",
      "                            Antecedent     Consequent  Rule_Confidence\n",
      "0                  External Hard-Drive     Anti-Virus              1.0\n",
      "1                     Microsoft Office    Flash Drive              1.0\n",
      "2                              Printer    Flash Drive              1.0\n",
      "3  (External Hard-Drive, Lab Top Case)   [Anti-Virus]              1.0\n",
      "4          (Flash Drive, Lab Top Case)   [Anti-Virus]              1.0\n",
      "5       (Anti-Virus, Microsoft Office)  [Flash Drive]              1.0\n",
      "6          (Microsoft Office, Printer)  [Flash Drive]              1.0 \n",
      "\n",
      "---------------------------------------------------------------------\n",
      "Final Association Rules for Best buy with support = 40 and Confidence = 90 \n",
      "\n",
      "1) External Hard-Drive --> Anti-Virus  \n",
      "2) Microsoft Office --> Flash Drive  \n",
      "3) Printer --> Flash Drive  \n",
      "4) ('External Hard-Drive', 'Lab Top Case') --> ['Anti-Virus']  \n",
      "5) ('Flash Drive', 'Lab Top Case') --> ['Anti-Virus']  \n",
      "6) ('Anti-Virus', 'Microsoft Office') --> ['Flash Drive']  \n",
      "7) ('Microsoft Office', 'Printer') --> ['Flash Drive']  \n"
     ]
    }
   ],
   "source": [
    "bb = '/Users/veena/Desktop/Dmining/Projects/Datasets/Best_buy.csv'\n",
    "#Specify minimum support\n",
    "minimum_support = 40\n",
    "#Specify minimum confidence\n",
    "minimum_confidence = 90\n",
    "\n",
    "\n",
    "print('***************** BEST BUY *****************')\n",
    "#To determine association rules, the abover parameters(minimum support and confidence) are passed to main function alogn with the datset\n",
    "for_rules,rules_bb = main(bb,minimum_support,minimum_confidence)\n",
    "print()\n",
    "#Printing all Rules which satify mininmum confidence criterion. Rules: Tansactiona --> Transaction \n",
    "print('\\n All association rules for Best buy with support = {} and Confidence = {} \\n' .format(minimum_support, minimum_confidence))\n",
    "print(rules_bb,'\\n')\n",
    "print('---------------------------------------------------------------------')\n",
    "#Printing Final association rules in format A,B --> C\n",
    "print(\"Final Association Rules for Best buy with support = {} and Confidence = {} \\n\" .format(minimum_support, minimum_confidence))\n",
    "for i in range(len(rules_bb['Rule_Confidence'])):\n",
    "    print (\"{}) {} --> {}  \".format(i+1, rules_bb['Antecedent'][i],rules_bb['Consequent'][i]))\n"
   ]
  },
  {
   "cell_type": "markdown",
   "id": "competitive-prototype",
   "metadata": {},
   "source": [
    "#### Running Best Buy dataset with support 30% and confidence 80%"
   ]
  },
  {
   "cell_type": "code",
   "execution_count": 13,
   "id": "macro-ordering",
   "metadata": {},
   "outputs": [
    {
     "name": "stdout",
     "output_type": "stream",
     "text": [
      "\n",
      " All association rules for Best buy with support = 55 and Confidence = 80 \n",
      "\n",
      "         Antecedent        Consequent  Rule_Confidence\n",
      "0        Anti-Virus      Lab Top Case             0.86\n",
      "1      Lab Top Case        Anti-Virus             0.86\n",
      "2       Flash Drive  Microsoft Office             0.85\n",
      "3  Microsoft Office       Flash Drive             1.00 \n",
      "\n",
      "---------------------------------------------------------------------\n",
      "Final Association Rules for Best buy with support = 55 and Confidence = 80 \n",
      "\n",
      "1) Anti-Virus --> Lab Top Case  \n",
      "2) Lab Top Case --> Anti-Virus  \n",
      "3) Flash Drive --> Microsoft Office  \n",
      "4) Microsoft Office --> Flash Drive  \n"
     ]
    }
   ],
   "source": [
    "#Specify minimum support\n",
    "minimum_support = 55\n",
    "#Specify minimum confidence\n",
    "minimum_confidence = 80\n",
    "\n",
    "#To determine association rules, the abover parameters(minimum support and confidence) are passed to main function alogn with the datset\n",
    "for_rules,rules_bb = main(bb,minimum_support,minimum_confidence)\n",
    "\n",
    "#Printing all Rules which satify mininmum confidence criterion. Rules: Tansactiona --> Transaction \n",
    "print('\\n All association rules for Best buy with support = {} and Confidence = {} \\n' .format(minimum_support, minimum_confidence))\n",
    "print(rules_bb,'\\n')\n",
    "print('---------------------------------------------------------------------')\n",
    "#Printing Final association rules in format A,B --> C\n",
    "print(\"Final Association Rules for Best buy with support = {} and Confidence = {} \\n\" .format(minimum_support, minimum_confidence))\n",
    "for i in range(len(rules_bb['Rule_Confidence'])):\n",
    "    print (\"{}) {} --> {}  \".format(i+1, rules_bb['Antecedent'][i],rules_bb['Consequent'][i]))\n"
   ]
  },
  {
   "cell_type": "markdown",
   "id": "sustained-threshold",
   "metadata": {},
   "source": [
    "#### Running Best Buy dataset with support 45% and confidence 95%"
   ]
  },
  {
   "cell_type": "code",
   "execution_count": 14,
   "id": "rising-blues",
   "metadata": {},
   "outputs": [
    {
     "name": "stdout",
     "output_type": "stream",
     "text": [
      "\n",
      " All association rules for Best buy with support = 45 and Confidence = 95 \n",
      "\n",
      "                    Antecedent     Consequent  Rule_Confidence\n",
      "0          External Hard-Drive     Anti-Virus              1.0\n",
      "1             Microsoft Office    Flash Drive              1.0\n",
      "2                      Printer    Flash Drive              1.0\n",
      "3  (Flash Drive, Lab Top Case)   [Anti-Virus]              1.0\n",
      "4  (Microsoft Office, Printer)  [Flash Drive]              1.0 \n",
      "\n",
      "---------------------------------------------------------------------\n",
      "Final Association Rules for Best buy with support = 45 and Confidence = 95 \n",
      "\n",
      "1) External Hard-Drive --> Anti-Virus  \n",
      "2) Microsoft Office --> Flash Drive  \n",
      "3) Printer --> Flash Drive  \n",
      "4) ('Flash Drive', 'Lab Top Case') --> ['Anti-Virus']  \n",
      "5) ('Microsoft Office', 'Printer') --> ['Flash Drive']  \n"
     ]
    }
   ],
   "source": [
    "#Specify minimum support\n",
    "minimum_support = 45\n",
    "#Specify minimum confidence\n",
    "minimum_confidence = 95\n",
    "\n",
    "#To determine association rules, the abover parameters(minimum support and confidence) are passed to main function alogn with the datset\n",
    "for_rules,rules_bb = main(bb,minimum_support,minimum_confidence)\n",
    "\n",
    "#Printing all Rules which satify mininmum confidence criterion. Rules: Tansactiona --> Transaction \n",
    "print('\\n All association rules for Best buy with support = {} and Confidence = {} \\n' .format(minimum_support, minimum_confidence))\n",
    "print(rules_bb,'\\n')\n",
    "print('---------------------------------------------------------------------')\n",
    "#Printing Final association rules in format A,B --> C\n",
    "print(\"Final Association Rules for Best buy with support = {} and Confidence = {} \\n\" .format(minimum_support, minimum_confidence))\n",
    "for i in range(len(rules_bb['Rule_Confidence'])):\n",
    "    print (\"{}) {} --> {}  \".format(i+1, rules_bb['Antecedent'][i],rules_bb['Consequent'][i]))\n"
   ]
  },
  {
   "cell_type": "markdown",
   "id": "enormous-mexico",
   "metadata": {},
   "source": [
    "#### Running Best Buy dataset with support 35% and confidence 90%"
   ]
  },
  {
   "cell_type": "code",
   "execution_count": 15,
   "id": "comprehensive-homeless",
   "metadata": {},
   "outputs": [
    {
     "name": "stdout",
     "output_type": "stream",
     "text": [
      "\n",
      " All association rules for Best buy with support = 35 and Confidence = 90 \n",
      "\n",
      "                                       Antecedent     Consequent  \\\n",
      "0                             External Hard-Drive     Anti-Virus   \n",
      "1                                Microsoft Office    Flash Drive   \n",
      "2                                         Printer    Flash Drive   \n",
      "3             (External Hard-Drive, Lab Top Case)   [Anti-Virus]   \n",
      "4                     (Flash Drive, Lab Top Case)   [Anti-Virus]   \n",
      "5                  (Anti-Virus, Microsoft Office)  [Flash Drive]   \n",
      "6                           (Anti-Virus, Printer)  [Flash Drive]   \n",
      "7                (Lab Top Case, Microsoft Office)   [Anti-Virus]   \n",
      "8                (Lab Top Case, Microsoft Office)  [Flash Drive]   \n",
      "9                     (Microsoft Office, Printer)  [Flash Drive]   \n",
      "10   (Anti-Virus, Lab Top Case, Microsoft Office)  [Flash Drive]   \n",
      "11  (Flash Drive, Lab Top Case, Microsoft Office)   [Anti-Virus]   \n",
      "\n",
      "    Rule_Confidence  \n",
      "0               1.0  \n",
      "1               1.0  \n",
      "2               1.0  \n",
      "3               1.0  \n",
      "4               1.0  \n",
      "5               1.0  \n",
      "6               1.0  \n",
      "7               1.0  \n",
      "8               1.0  \n",
      "9               1.0  \n",
      "10              1.0  \n",
      "11              1.0   \n",
      "\n",
      "---------------------------------------------------------------------\n",
      "Final Association Rules for Best buy with support = 35 and Confidence = 90 \n",
      "\n",
      "1) External Hard-Drive --> Anti-Virus  \n",
      "2) Microsoft Office --> Flash Drive  \n",
      "3) Printer --> Flash Drive  \n",
      "4) ('External Hard-Drive', 'Lab Top Case') --> ['Anti-Virus']  \n",
      "5) ('Flash Drive', 'Lab Top Case') --> ['Anti-Virus']  \n",
      "6) ('Anti-Virus', 'Microsoft Office') --> ['Flash Drive']  \n",
      "7) ('Anti-Virus', 'Printer') --> ['Flash Drive']  \n",
      "8) ('Lab Top Case', 'Microsoft Office') --> ['Anti-Virus']  \n",
      "9) ('Lab Top Case', 'Microsoft Office') --> ['Flash Drive']  \n",
      "10) ('Microsoft Office', 'Printer') --> ['Flash Drive']  \n",
      "11) ('Anti-Virus', 'Lab Top Case', 'Microsoft Office') --> ['Flash Drive']  \n",
      "12) ('Flash Drive', 'Lab Top Case', 'Microsoft Office') --> ['Anti-Virus']  \n"
     ]
    }
   ],
   "source": [
    "#Specify minimum support\n",
    "minimum_support = 35\n",
    "#Specify minimum confidence\n",
    "minimum_confidence = 90\n",
    "\n",
    "#To determine association rules, the abover parameters(minimum support and confidence) are passed to main function alogn with the datset\n",
    "for_rules,rules_bb = main(bb,minimum_support,minimum_confidence)\n",
    "\n",
    "#Printing all Rules which satify mininmum confidence criterion. Rules: Tansactiona --> Transaction \n",
    "print('\\n All association rules for Best buy with support = {} and Confidence = {} \\n' .format(minimum_support, minimum_confidence))\n",
    "print(rules_bb,'\\n')\n",
    "print('---------------------------------------------------------------------')\n",
    "#Printing Final association rules in format A,B --> C\n",
    "print(\"Final Association Rules for Best buy with support = {} and Confidence = {} \\n\" .format(minimum_support, minimum_confidence))\n",
    "for i in range(len(rules_bb['Rule_Confidence'])):\n",
    "    print (\"{}) {} --> {}  \".format(i+1, rules_bb['Antecedent'][i],rules_bb['Consequent'][i]))\n"
   ]
  },
  {
   "cell_type": "markdown",
   "id": "frozen-indonesian",
   "metadata": {},
   "source": [
    "## Determining Association Rules for Costco"
   ]
  },
  {
   "cell_type": "markdown",
   "id": "crucial-catch",
   "metadata": {},
   "source": [
    "#### Running Costco dataset with support 40% and confidence 30%"
   ]
  },
  {
   "cell_type": "code",
   "execution_count": 16,
   "id": "seventh-atlanta",
   "metadata": {},
   "outputs": [
    {
     "name": "stdout",
     "output_type": "stream",
     "text": [
      "***************** COSTCO *****************\n",
      "\n",
      " All association rules for Costco with support = 40 and Confidence = 30 \n",
      "\n",
      "                              Antecedent           Consequent  Rule_Confidence\n",
      "0                          Peanut Butter      Roasted seaweed             1.00\n",
      "1                        Roasted seaweed        Peanut Butter             0.77\n",
      "2                          Peanut Butter    chocolate almonds             0.90\n",
      "3                      chocolate almonds        Peanut Butter             0.82\n",
      "4                        Roasted seaweed    chocolate almonds             0.69\n",
      "5                      chocolate almonds      Roasted seaweed             0.82\n",
      "6                        Roasted seaweed               coffee             0.69\n",
      "7                                 coffee      Roasted seaweed             0.69\n",
      "8       (Peanut Butter, Roasted seaweed)  [chocolate almonds]             0.90\n",
      "9     (Peanut Butter, chocolate almonds)    [Roasted seaweed]             1.00\n",
      "10  (Roasted seaweed, chocolate almonds)      [Peanut Butter]             1.00 \n",
      "\n",
      "---------------------------------------------------------------------\n",
      "Final Association Rules for costco with support = 40 and Confidence = 30 \n",
      "\n",
      "1) Peanut Butter --> Roasted seaweed  \n",
      "2) Roasted seaweed --> Peanut Butter  \n",
      "3) Peanut Butter --> chocolate almonds  \n",
      "4) chocolate almonds --> Peanut Butter  \n",
      "5) Roasted seaweed --> chocolate almonds  \n",
      "6) chocolate almonds --> Roasted seaweed  \n",
      "7) Roasted seaweed --> coffee  \n",
      "8) coffee --> Roasted seaweed  \n",
      "9) ('Peanut Butter', 'Roasted seaweed') --> ['chocolate almonds']  \n",
      "10) ('Peanut Butter', 'chocolate almonds') --> ['Roasted seaweed']  \n",
      "11) ('Roasted seaweed', 'chocolate almonds') --> ['Peanut Butter']  \n"
     ]
    }
   ],
   "source": [
    "costco = '/Users/veena/Desktop/Dmining/Projects/Datasets/costco.csv'\n",
    "#Specify minimum support\n",
    "minimum_support = 40\n",
    "#Specify minimum confidence\n",
    "minimum_confidence = 30\n",
    "\n",
    "#To determine association rules, the abover parameters(minimum support and confidence) are passed to main function alogn with the datset\n",
    "for_rules,rules_costco = main(costco,minimum_support,minimum_confidence)\n",
    "\n",
    "print('***************** COSTCO *****************')\n",
    "#Printing all Rules which satify mininmum confidence criterion. Rules: Tansactiona --> Transaction \n",
    "print('\\n All association rules for Costco with support = {} and Confidence = {} \\n' .format(minimum_support, minimum_confidence))\n",
    "print(rules_costco,'\\n')\n",
    "print('---------------------------------------------------------------------')\n",
    "#Printing Final association rules in format A,B --> C\n",
    "print(\"Final Association Rules for costco with support = {} and Confidence = {} \\n\" .format(minimum_support, minimum_confidence))\n",
    "for i in range(len(rules_costco['Rule_Confidence'])):\n",
    "    print (\"{}) {} --> {}  \".format(i+1, rules_costco['Antecedent'][i],rules_costco['Consequent'][i]))"
   ]
  },
  {
   "cell_type": "markdown",
   "id": "polish-ordering",
   "metadata": {},
   "source": [
    "#### Running Costco dataset with support 45% and confidence 65%"
   ]
  },
  {
   "cell_type": "code",
   "execution_count": 17,
   "id": "healthy-hamburg",
   "metadata": {},
   "outputs": [
    {
     "name": "stdout",
     "output_type": "stream",
     "text": [
      "\n",
      " All association rules for Costco with support = 45 and Confidence = 65 \n",
      "\n",
      "                              Antecedent           Consequent  Rule_Confidence\n",
      "0                          Peanut Butter      Roasted seaweed             1.00\n",
      "1                        Roasted seaweed        Peanut Butter             0.77\n",
      "2                          Peanut Butter    chocolate almonds             0.90\n",
      "3                      chocolate almonds        Peanut Butter             0.82\n",
      "4                        Roasted seaweed    chocolate almonds             0.69\n",
      "5                      chocolate almonds      Roasted seaweed             0.82\n",
      "6                        Roasted seaweed               coffee             0.69\n",
      "7                                 coffee      Roasted seaweed             0.69\n",
      "8       (Peanut Butter, Roasted seaweed)  [chocolate almonds]             0.90\n",
      "9     (Peanut Butter, chocolate almonds)    [Roasted seaweed]             1.00\n",
      "10  (Roasted seaweed, chocolate almonds)      [Peanut Butter]             1.00 \n",
      "\n",
      "---------------------------------------------------------------------\n",
      "Final Association Rules for costco with support = 45 and Confidence = 65 \n",
      "\n",
      "1) Peanut Butter --> Roasted seaweed  \n",
      "2) Roasted seaweed --> Peanut Butter  \n",
      "3) Peanut Butter --> chocolate almonds  \n",
      "4) chocolate almonds --> Peanut Butter  \n",
      "5) Roasted seaweed --> chocolate almonds  \n",
      "6) chocolate almonds --> Roasted seaweed  \n",
      "7) Roasted seaweed --> coffee  \n",
      "8) coffee --> Roasted seaweed  \n",
      "9) ('Peanut Butter', 'Roasted seaweed') --> ['chocolate almonds']  \n",
      "10) ('Peanut Butter', 'chocolate almonds') --> ['Roasted seaweed']  \n",
      "11) ('Roasted seaweed', 'chocolate almonds') --> ['Peanut Butter']  \n"
     ]
    }
   ],
   "source": [
    "#Specify minimum support\n",
    "minimum_support = 45\n",
    "#Specify minimum confidence\n",
    "minimum_confidence = 65\n",
    "\n",
    "#To determine association rules, the abover parameters(minimum support and confidence) are passed to main function alogn with the datset\n",
    "for_rules,rules_costco = main(costco,minimum_support,minimum_confidence)\n",
    "\n",
    "#Printing all Rules which satify mininmum confidence criterion. Rules: Tansactiona --> Transaction \n",
    "print('\\n All association rules for Costco with support = {} and Confidence = {} \\n' .format(minimum_support, minimum_confidence))\n",
    "print(rules_costco,'\\n')\n",
    "print('---------------------------------------------------------------------')\n",
    "#Printing Final association rules in format A,B --> C\n",
    "print(\"Final Association Rules for costco with support = {} and Confidence = {} \\n\" .format(minimum_support, minimum_confidence))\n",
    "for i in range(len(rules_costco['Rule_Confidence'])):\n",
    "    print (\"{}) {} --> {}  \".format(i+1, rules_costco['Antecedent'][i],rules_costco['Consequent'][i]))"
   ]
  },
  {
   "cell_type": "markdown",
   "id": "applied-petersburg",
   "metadata": {},
   "source": [
    "#### Running Costco dataset with support 30% and confidence 75%"
   ]
  },
  {
   "cell_type": "code",
   "execution_count": 18,
   "id": "qualified-lounge",
   "metadata": {},
   "outputs": [
    {
     "name": "stdout",
     "output_type": "stream",
     "text": [
      "\n",
      " All association rules for Costco with support = 30 and Confidence = 75 \n",
      "\n",
      "                             Antecedent           Consequent  Rule_Confidence\n",
      "0                         Peanut Butter      Roasted seaweed             1.00\n",
      "1                       Roasted seaweed        Peanut Butter             0.77\n",
      "2                         Peanut Butter    chocolate almonds             0.90\n",
      "3                     chocolate almonds        Peanut Butter             0.82\n",
      "4                     chocolate almonds      Roasted seaweed             0.82\n",
      "5      (Peanut Butter, Roasted seaweed)  [chocolate almonds]             0.90\n",
      "6    (Peanut Butter, chocolate almonds)    [Roasted seaweed]             1.00\n",
      "7  (Roasted seaweed, chocolate almonds)      [Peanut Butter]             1.00\n",
      "8               (Peanut Butter, coffee)    [Roasted seaweed]             1.00 \n",
      "\n",
      "---------------------------------------------------------------------\n",
      "Final Association Rules for costco with support = 30 and Confidence = 75 \n",
      "\n",
      "1) Peanut Butter --> Roasted seaweed  \n",
      "2) Roasted seaweed --> Peanut Butter  \n",
      "3) Peanut Butter --> chocolate almonds  \n",
      "4) chocolate almonds --> Peanut Butter  \n",
      "5) chocolate almonds --> Roasted seaweed  \n",
      "6) ('Peanut Butter', 'Roasted seaweed') --> ['chocolate almonds']  \n",
      "7) ('Peanut Butter', 'chocolate almonds') --> ['Roasted seaweed']  \n",
      "8) ('Roasted seaweed', 'chocolate almonds') --> ['Peanut Butter']  \n",
      "9) ('Peanut Butter', 'coffee') --> ['Roasted seaweed']  \n"
     ]
    }
   ],
   "source": [
    "#Specify minimum support\n",
    "minimum_support = 30\n",
    "#Specify minimum confidence\n",
    "minimum_confidence = 75\n",
    "\n",
    "#To determine association rules, the abover parameters(minimum support and confidence) are passed to main function alogn with the datset\n",
    "for_rules,rules_costco = main(costco,minimum_support,minimum_confidence)\n",
    "\n",
    "#Printing all Rules which satify mininmum confidence criterion. Rules: Tansactiona --> Transaction \n",
    "print('\\n All association rules for Costco with support = {} and Confidence = {} \\n' .format(minimum_support, minimum_confidence))\n",
    "print(rules_costco,'\\n')\n",
    "print('---------------------------------------------------------------------')\n",
    "#Printing Final association rules in format A,B --> C\n",
    "print(\"Final Association Rules for costco with support = {} and Confidence = {} \\n\" .format(minimum_support, minimum_confidence))\n",
    "for i in range(len(rules_costco['Rule_Confidence'])):\n",
    "    print (\"{}) {} --> {}  \".format(i+1, rules_costco['Antecedent'][i],rules_costco['Consequent'][i]))"
   ]
  },
  {
   "cell_type": "markdown",
   "id": "nearby-findings",
   "metadata": {},
   "source": [
    "#### Running Costco dataset with support 40% and confidence 40%"
   ]
  },
  {
   "cell_type": "code",
   "execution_count": 19,
   "id": "academic-sense",
   "metadata": {},
   "outputs": [
    {
     "name": "stdout",
     "output_type": "stream",
     "text": [
      "\n",
      " All association rules for Costco with support = 40 and Confidence = 40 \n",
      "\n",
      "                              Antecedent           Consequent  Rule_Confidence\n",
      "0                          Peanut Butter      Roasted seaweed             1.00\n",
      "1                        Roasted seaweed        Peanut Butter             0.77\n",
      "2                          Peanut Butter    chocolate almonds             0.90\n",
      "3                      chocolate almonds        Peanut Butter             0.82\n",
      "4                        Roasted seaweed    chocolate almonds             0.69\n",
      "5                      chocolate almonds      Roasted seaweed             0.82\n",
      "6                        Roasted seaweed               coffee             0.69\n",
      "7                                 coffee      Roasted seaweed             0.69\n",
      "8       (Peanut Butter, Roasted seaweed)  [chocolate almonds]             0.90\n",
      "9     (Peanut Butter, chocolate almonds)    [Roasted seaweed]             1.00\n",
      "10  (Roasted seaweed, chocolate almonds)      [Peanut Butter]             1.00 \n",
      "\n",
      "---------------------------------------------------------------------\n",
      "Final Association Rules for costco with support = 40 and Confidence = 40 \n",
      "\n",
      "1) Peanut Butter --> Roasted seaweed  \n",
      "2) Roasted seaweed --> Peanut Butter  \n",
      "3) Peanut Butter --> chocolate almonds  \n",
      "4) chocolate almonds --> Peanut Butter  \n",
      "5) Roasted seaweed --> chocolate almonds  \n",
      "6) chocolate almonds --> Roasted seaweed  \n",
      "7) Roasted seaweed --> coffee  \n",
      "8) coffee --> Roasted seaweed  \n",
      "9) ('Peanut Butter', 'Roasted seaweed') --> ['chocolate almonds']  \n",
      "10) ('Peanut Butter', 'chocolate almonds') --> ['Roasted seaweed']  \n",
      "11) ('Roasted seaweed', 'chocolate almonds') --> ['Peanut Butter']  \n"
     ]
    }
   ],
   "source": [
    "#Specify minimum support\n",
    "minimum_support = 40\n",
    "#Specify minimum confidence\n",
    "minimum_confidence = 40\n",
    "\n",
    "#To determine association rules, the abover parameters(minimum support and confidence) are passed to main function alogn with the datset\n",
    "for_rules,rules_costco = main(costco,minimum_support,minimum_confidence)\n",
    "\n",
    "#Printing all Rules which satify mininmum confidence criterion. Rules: Tansactiona --> Transaction \n",
    "print('\\n All association rules for Costco with support = {} and Confidence = {} \\n' .format(minimum_support, minimum_confidence))\n",
    "print(rules_costco,'\\n')\n",
    "print('---------------------------------------------------------------------')\n",
    "#Printing Final association rules in format A,B --> C\n",
    "print(\"Final Association Rules for costco with support = {} and Confidence = {} \\n\" .format(minimum_support, minimum_confidence))\n",
    "for i in range(len(rules_costco['Rule_Confidence'])):\n",
    "    print (\"{}) {} --> {}  \".format(i+1, rules_costco['Antecedent'][i],rules_costco['Consequent'][i]))"
   ]
  },
  {
   "cell_type": "markdown",
   "id": "level-float",
   "metadata": {},
   "source": [
    "## Determining Association Rules for Nike"
   ]
  },
  {
   "cell_type": "markdown",
   "id": "unnecessary-treasure",
   "metadata": {},
   "source": [
    "#### Running Nike dataset with support 60% and confidence 60%"
   ]
  },
  {
   "cell_type": "code",
   "execution_count": 20,
   "id": "perfect-nutrition",
   "metadata": {},
   "outputs": [
    {
     "name": "stdout",
     "output_type": "stream",
     "text": [
      "***************** NIKE *****************\n",
      "\n",
      " All association rules for Nike with support = 60 and Confidence = 60 \n",
      "\n",
      "    Antecedent   Consequent  Rule_Confidence\n",
      "0        Socks  Sweatshirts             0.92\n",
      "1  Sweatshirts        Socks             0.92 \n",
      "\n",
      "---------------------------------------------------------------------\n",
      "Final Association Rules for Nike with support = 60 and Confidence = 60 \n",
      "\n",
      "1) Socks --> Sweatshirts  \n",
      "2) Sweatshirts --> Socks  \n"
     ]
    }
   ],
   "source": [
    "nike = '/Users/veena/Desktop/Dmining/Projects/Datasets/Nike.csv'\n",
    "#Specify minimum support\n",
    "minimum_support = 60\n",
    "#Specify minimum confidence\n",
    "minimum_confidence = 60\n",
    "#To determine association rules, the abover parameters(minimum support and confidence) are passed to main function alogn with the datset\n",
    "for_rules,rules_nike = main(nike,minimum_support,minimum_confidence)\n",
    "\n",
    "print('***************** NIKE *****************')\n",
    "#Printing all Rules which satify mininmum confidence criterion. Rules: Tansactiona --> Transaction \n",
    "print('\\n All association rules for Nike with support = {} and Confidence = {} \\n' .format(minimum_support, minimum_confidence))\n",
    "print(rules_nike,'\\n')\n",
    "print('---------------------------------------------------------------------')\n",
    "#Printing Final association rules in format A,B --> C\n",
    "print(\"Final Association Rules for Nike with support = {} and Confidence = {} \\n\" .format(minimum_support, minimum_confidence))\n",
    "for i in range(len(rules_nike['Rule_Confidence'])):\n",
    "    print (\"{}) {} --> {}  \".format(i+1, rules_nike['Antecedent'][i],rules_nike['Consequent'][i]))"
   ]
  },
  {
   "cell_type": "markdown",
   "id": "roman-yukon",
   "metadata": {},
   "source": [
    "#### Running Nike dataset with support 60% and confidence 90%"
   ]
  },
  {
   "cell_type": "code",
   "execution_count": 21,
   "id": "unknown-asset",
   "metadata": {},
   "outputs": [
    {
     "name": "stdout",
     "output_type": "stream",
     "text": [
      "\n",
      " All association rules for Nike with support = 60 and Confidence = 90 \n",
      "\n",
      "    Antecedent   Consequent  Rule_Confidence\n",
      "0        Socks  Sweatshirts             0.92\n",
      "1  Sweatshirts        Socks             0.92 \n",
      "\n",
      "---------------------------------------------------------------------\n",
      "Final Association Rules for Nike with support = 60 and Confidence = 90 \n",
      "\n",
      "1) Socks --> Sweatshirts  \n",
      "2) Sweatshirts --> Socks  \n"
     ]
    }
   ],
   "source": [
    "#Specify minimum support\n",
    "minimum_support = 60\n",
    "#Specify minimum confidence\n",
    "minimum_confidence = 90\n",
    "\n",
    "#To determine association rules, the abover parameters(minimum support and confidence) are passed to main function alogn with the datset\n",
    "for_rules,rules_nike = main(nike,minimum_support,minimum_confidence)\n",
    "\n",
    "#Printing all Rules which satify mininmum confidence criterion. Rules: Tansactiona --> Transaction \n",
    "print('\\n All association rules for Nike with support = {} and Confidence = {} \\n' .format(minimum_support, minimum_confidence))\n",
    "print(rules_nike,'\\n')\n",
    "print('---------------------------------------------------------------------')\n",
    "#Printing Final association rules in format A,B --> C\n",
    "print(\"Final Association Rules for Nike with support = {} and Confidence = {} \\n\" .format(minimum_support, minimum_confidence))\n",
    "for i in range(len(rules_nike['Rule_Confidence'])):\n",
    "    print (\"{}) {} --> {}  \".format(i+1, rules_nike['Antecedent'][i],rules_nike['Consequent'][i]))"
   ]
  },
  {
   "cell_type": "markdown",
   "id": "dedicated-emission",
   "metadata": {},
   "source": [
    "#### Running Nike dataset with support 55% and confidence 55%"
   ]
  },
  {
   "cell_type": "code",
   "execution_count": 22,
   "id": "dynamic-outreach",
   "metadata": {},
   "outputs": [
    {
     "name": "stdout",
     "output_type": "stream",
     "text": [
      "\n",
      " All association rules for Nike with support = 55 and Confidence = 55 \n",
      "\n",
      "     Antecedent    Consequent  Rule_Confidence\n",
      "0  Running Shoe         Socks             0.79\n",
      "1         Socks  Running Shoe             0.85\n",
      "2  Running Shoe   Sweatshirts             0.79\n",
      "3   Sweatshirts  Running Shoe             0.85\n",
      "4         Socks   Sweatshirts             0.92\n",
      "5   Sweatshirts         Socks             0.92 \n",
      "\n",
      "---------------------------------------------------------------------\n",
      "Final Association Rules for Nike with support = 55 and Confidence = 55 \n",
      "\n",
      "1) Running Shoe --> Socks  \n",
      "2) Socks --> Running Shoe  \n",
      "3) Running Shoe --> Sweatshirts  \n",
      "4) Sweatshirts --> Running Shoe  \n",
      "5) Socks --> Sweatshirts  \n",
      "6) Sweatshirts --> Socks  \n"
     ]
    }
   ],
   "source": [
    "#Specify minimum support\n",
    "minimum_support = 55\n",
    "#Specify minimum confidence\n",
    "minimum_confidence = 55\n",
    "\n",
    "#To determine association rules, the abover parameters(minimum support and confidence) are passed to main function alogn with the datset\n",
    "for_rules,rules_nike = main(nike,minimum_support,minimum_confidence)\n",
    "\n",
    "#Printing all Rules which satify mininmum confidence criterion. Rules: Tansactiona --> Transaction \n",
    "print('\\n All association rules for Nike with support = {} and Confidence = {} \\n' .format(minimum_support, minimum_confidence))\n",
    "print(rules_nike,'\\n')\n",
    "print('---------------------------------------------------------------------')\n",
    "#Printing Final association rules in format A,B --> C\n",
    "print(\"Final Association Rules for Nike with support = {} and Confidence = {} \\n\" .format(minimum_support, minimum_confidence))\n",
    "for i in range(len(rules_nike['Rule_Confidence'])):\n",
    "    print (\"{}) {} --> {}  \".format(i+1, rules_nike['Antecedent'][i],rules_nike['Consequent'][i]))"
   ]
  },
  {
   "cell_type": "markdown",
   "id": "accompanied-summer",
   "metadata": {},
   "source": [
    "#### Running Nike dataset with support 55% and confidence 70%"
   ]
  },
  {
   "cell_type": "code",
   "execution_count": 23,
   "id": "national-rover",
   "metadata": {},
   "outputs": [
    {
     "name": "stdout",
     "output_type": "stream",
     "text": [
      "\n",
      " All association rules for Nike with support = 55 and Confidence = 70 \n",
      "\n",
      "     Antecedent    Consequent  Rule_Confidence\n",
      "0  Running Shoe         Socks             0.79\n",
      "1         Socks  Running Shoe             0.85\n",
      "2  Running Shoe   Sweatshirts             0.79\n",
      "3   Sweatshirts  Running Shoe             0.85\n",
      "4         Socks   Sweatshirts             0.92\n",
      "5   Sweatshirts         Socks             0.92 \n",
      "\n",
      "---------------------------------------------------------------------\n",
      "Final Association Rules for Nike with support = 55 and Confidence = 70 \n",
      "\n",
      "1) Running Shoe --> Socks  \n",
      "2) Socks --> Running Shoe  \n",
      "3) Running Shoe --> Sweatshirts  \n",
      "4) Sweatshirts --> Running Shoe  \n",
      "5) Socks --> Sweatshirts  \n",
      "6) Sweatshirts --> Socks  \n"
     ]
    }
   ],
   "source": [
    "#Specify minimum support\n",
    "minimum_support = 55\n",
    "#Specify minimum confidence\n",
    "minimum_confidence = 70\n",
    "\n",
    "#To determine association rules, the abover parameters(minimum support and confidence) are passed to main function alogn with the datset\n",
    "for_rules,rules_nike = main(nike,minimum_support,minimum_confidence)\n",
    "\n",
    "#Printing all Rules which satify mininmum confidence criterion. Rules: Tansactiona --> Transaction \n",
    "print('\\n All association rules for Nike with support = {} and Confidence = {} \\n' .format(minimum_support, minimum_confidence))\n",
    "print(rules_nike,'\\n')\n",
    "print('---------------------------------------------------------------------')\n",
    "#Printing Final association rules in format A,B --> C\n",
    "print(\"Final Association Rules for Nike with support = {} and Confidence = {} \\n\" .format(minimum_support, minimum_confidence))\n",
    "for i in range(len(rules_nike['Rule_Confidence'])):\n",
    "    print (\"{}) {} --> {}  \".format(i+1, rules_nike['Antecedent'][i],rules_nike['Consequent'][i]))"
   ]
  },
  {
   "cell_type": "markdown",
   "id": "interim-terry",
   "metadata": {},
   "source": [
    "## Determining Association Rules for Generic"
   ]
  },
  {
   "cell_type": "markdown",
   "id": "chief-bracelet",
   "metadata": {},
   "source": [
    "#### Running Generic dataset with support 20% and confidence 90%"
   ]
  },
  {
   "cell_type": "code",
   "execution_count": 24,
   "id": "threatened-enlargement",
   "metadata": {},
   "outputs": [
    {
     "name": "stdout",
     "output_type": "stream",
     "text": [
      "***************** GENERIC *****************\n",
      "\n",
      " All association rules for Generic with support = 20 and Confidence = 90 \n",
      "\n",
      "   Antecedent Consequent  Rule_Confidence\n",
      "0           B          A              1.0\n",
      "1           C          A              1.0\n",
      "2           D          A              1.0\n",
      "3           E          A              1.0\n",
      "4      (B, C)        [A]              1.0\n",
      "5      (B, D)        [A]              1.0\n",
      "6      (B, E)        [A]              1.0\n",
      "7      (C, D)        [A]              1.0\n",
      "8      (C, E)        [A]              1.0\n",
      "9      (D, E)        [A]              1.0\n",
      "10  (B, C, D)        [A]              1.0 \n",
      "\n",
      "---------------------------------------------------------------------\n",
      "\n",
      "Final Association Rules Generic with support = 20 and Confidence = 90 \n",
      "\n",
      "1) B --> A  \n",
      "2) C --> A  \n",
      "3) D --> A  \n",
      "4) E --> A  \n",
      "5) ('B', 'C') --> ['A']  \n",
      "6) ('B', 'D') --> ['A']  \n",
      "7) ('B', 'E') --> ['A']  \n",
      "8) ('C', 'D') --> ['A']  \n",
      "9) ('C', 'E') --> ['A']  \n",
      "10) ('D', 'E') --> ['A']  \n",
      "11) ('B', 'C', 'D') --> ['A']  \n"
     ]
    }
   ],
   "source": [
    "generic = '/Users/veena/Desktop/Dmining/Projects/Datasets/Generic.csv'\n",
    "#Specify minimum support\n",
    "minimum_support = 20\n",
    "#Specify minimum confidence\n",
    "minimum_confidence = 90\n",
    "\n",
    "#To determine association rules, the abover parameters(minimum support and confidence) are passed to main function alogn with the datset\n",
    "for_rules,rules_generic = main(generic,minimum_support,minimum_confidence)\n",
    "\n",
    "print('***************** GENERIC *****************')\n",
    "#Printing all Rules which satify mininmum confidence criterion. Rules: Tansactiona --> Transaction \n",
    "print('\\n All association rules for Generic with support = {} and Confidence = {} \\n' .format(minimum_support, minimum_confidence))\n",
    "print(rules_generic,'\\n')\n",
    "print('---------------------------------------------------------------------\\n')\n",
    "#Printing Final association rules in format A,B --> C\n",
    "print(\"Final Association Rules Generic with support = {} and Confidence = {} \\n\" .format(minimum_support, minimum_confidence))\n",
    "for i in range(len(rules_generic['Rule_Confidence'])):\n",
    "    print (\"{}) {} --> {}  \".format(i+1, rules_generic['Antecedent'][i],rules_generic['Consequent'][i]))"
   ]
  },
  {
   "cell_type": "markdown",
   "id": "sufficient-serum",
   "metadata": {},
   "source": [
    "#### Running Generic dataset with support 35% and confidence 95%"
   ]
  },
  {
   "cell_type": "code",
   "execution_count": 25,
   "id": "opening-jesus",
   "metadata": {},
   "outputs": [
    {
     "name": "stdout",
     "output_type": "stream",
     "text": [
      "\n",
      " All association rules for Generic with support = 35 and Confidence = 95 \n",
      "\n",
      "  Antecedent Consequent  Rule_Confidence\n",
      "0          B          A              1.0\n",
      "1          C          A              1.0\n",
      "2          D          A              1.0\n",
      "3          E          A              1.0\n",
      "4     (B, C)        [A]              1.0 \n",
      "\n",
      "---------------------------------------------------------------------\n",
      "\n",
      "Final Association Rules Generic with support = 35 and Confidence = 95 \n",
      "\n",
      "1) B --> A  \n",
      "2) C --> A  \n",
      "3) D --> A  \n",
      "4) E --> A  \n",
      "5) ('B', 'C') --> ['A']  \n"
     ]
    }
   ],
   "source": [
    "#Specify minimum support\n",
    "minimum_support = 35\n",
    "#Specify minimum confidence\n",
    "minimum_confidence = 95\n",
    "\n",
    "#To determine association rules, the abover parameters(minimum support and confidence) are passed to main function alogn with the datset\n",
    "for_rules,rules_generic = main(generic,minimum_support,minimum_confidence)\n",
    "\n",
    "#Printing all Rules which satify mininmum confidence criterion. Rules: Tansactiona --> Transaction \n",
    "print('\\n All association rules for Generic with support = {} and Confidence = {} \\n' .format(minimum_support, minimum_confidence))\n",
    "print(rules_generic,'\\n')\n",
    "print('---------------------------------------------------------------------\\n')\n",
    "#Printing Final association rules in format A,B --> C\n",
    "print(\"Final Association Rules Generic with support = {} and Confidence = {} \\n\" .format(minimum_support, minimum_confidence))\n",
    "for i in range(len(rules_generic['Rule_Confidence'])):\n",
    "    print (\"{}) {} --> {}  \".format(i+1, rules_generic['Antecedent'][i],rules_generic['Consequent'][i]))"
   ]
  },
  {
   "cell_type": "markdown",
   "id": "legendary-secret",
   "metadata": {},
   "source": [
    "#### Running Generic dataset with support 40% and confidence 42%"
   ]
  },
  {
   "cell_type": "code",
   "execution_count": 26,
   "id": "false-affairs",
   "metadata": {},
   "outputs": [
    {
     "name": "stdout",
     "output_type": "stream",
     "text": [
      "\n",
      " All association rules for Generic with support = 40 and Confidence = 42 \n",
      "\n",
      "   Antecedent Consequent  Rule_Confidence\n",
      "0           A          B             0.65\n",
      "1           B          A             1.00\n",
      "2           A          C             0.65\n",
      "3           C          A             1.00\n",
      "4           D          A             1.00\n",
      "5           A          E             0.60\n",
      "6           E          A             1.00\n",
      "7           B          C             0.69\n",
      "8           C          B             0.69\n",
      "9      (A, B)        [C]             0.69\n",
      "10     (A, C)        [B]             0.69\n",
      "11     (B, C)        [A]             1.00 \n",
      "\n",
      "---------------------------------------------------------------------\n",
      "\n",
      "Final Association Rules Generic with support = 40 and Confidence = 42 \n",
      "\n",
      "1) A --> B  \n",
      "2) B --> A  \n",
      "3) A --> C  \n",
      "4) C --> A  \n",
      "5) D --> A  \n",
      "6) A --> E  \n",
      "7) E --> A  \n",
      "8) B --> C  \n",
      "9) C --> B  \n",
      "10) ('A', 'B') --> ['C']  \n",
      "11) ('A', 'C') --> ['B']  \n",
      "12) ('B', 'C') --> ['A']  \n"
     ]
    }
   ],
   "source": [
    "#Specify minimum support\n",
    "minimum_support = 40\n",
    "#Specify minimum confidence\n",
    "minimum_confidence = 42\n",
    "\n",
    "#To determine association rules, the abover parameters(minimum support and confidence) are passed to main function alogn with the datset\n",
    "for_rules,rules_generic = main(generic,minimum_support,minimum_confidence)\n",
    "\n",
    "#Printing all Rules which satify mininmum confidence criterion. Rules: Tansactiona --> Transaction \n",
    "print('\\n All association rules for Generic with support = {} and Confidence = {} \\n' .format(minimum_support, minimum_confidence))\n",
    "print(rules_generic,'\\n')\n",
    "print('---------------------------------------------------------------------\\n')\n",
    "#Printing Final association rules in format A,B --> C\n",
    "print(\"Final Association Rules Generic with support = {} and Confidence = {} \\n\" .format(minimum_support, minimum_confidence))\n",
    "for i in range(len(rules_generic['Rule_Confidence'])):\n",
    "    print (\"{}) {} --> {}  \".format(i+1, rules_generic['Antecedent'][i],rules_generic['Consequent'][i]))"
   ]
  },
  {
   "cell_type": "markdown",
   "id": "broad-exclusion",
   "metadata": {},
   "source": [
    "#### Running Generic dataset with support 10% and confidence 70%"
   ]
  },
  {
   "cell_type": "code",
   "execution_count": 27,
   "id": "celtic-expense",
   "metadata": {},
   "outputs": [
    {
     "name": "stdout",
     "output_type": "stream",
     "text": [
      "\n",
      " All association rules for Generic with support = 10 and Confidence = 70 \n",
      "\n",
      "   Antecedent Consequent  Rule_Confidence\n",
      "0           B          A             1.00\n",
      "1           C          A             1.00\n",
      "2           D          A             1.00\n",
      "3           E          A             1.00\n",
      "4           D          B             0.75\n",
      "5           D          C             0.75\n",
      "6      (B, C)        [A]             1.00\n",
      "7      (A, D)        [B]             0.75\n",
      "8      (B, D)        [A]             1.00\n",
      "9      (B, E)        [A]             1.00\n",
      "10     (A, D)        [C]             0.75\n",
      "11     (C, D)        [A]             1.00\n",
      "12     (C, E)        [A]             1.00\n",
      "13     (D, E)        [A]             1.00\n",
      "14     (B, D)        [C]             0.83\n",
      "15     (C, D)        [B]             0.83\n",
      "16     (D, E)        [B]             0.75\n",
      "17  (A, B, D)        [C]             0.83\n",
      "18  (A, C, D)        [B]             0.83\n",
      "19  (B, C, D)        [A]             1.00\n",
      "20  (B, C, E)        [A]             1.00\n",
      "21  (A, D, E)        [B]             0.75\n",
      "22  (B, D, E)        [A]             1.00\n",
      "23  (C, D, E)        [A]             1.00\n",
      "24  (C, D, E)        [B]             1.00 \n",
      "\n",
      "---------------------------------------------------------------------\n",
      "\n",
      "Final Association Rules Generic with support = 10 and Confidence = 70 \n",
      "\n",
      "1) B --> A  \n",
      "2) C --> A  \n",
      "3) D --> A  \n",
      "4) E --> A  \n",
      "5) D --> B  \n",
      "6) D --> C  \n",
      "7) ('B', 'C') --> ['A']  \n",
      "8) ('A', 'D') --> ['B']  \n",
      "9) ('B', 'D') --> ['A']  \n",
      "10) ('B', 'E') --> ['A']  \n",
      "11) ('A', 'D') --> ['C']  \n",
      "12) ('C', 'D') --> ['A']  \n",
      "13) ('C', 'E') --> ['A']  \n",
      "14) ('D', 'E') --> ['A']  \n",
      "15) ('B', 'D') --> ['C']  \n",
      "16) ('C', 'D') --> ['B']  \n",
      "17) ('D', 'E') --> ['B']  \n",
      "18) ('A', 'B', 'D') --> ['C']  \n",
      "19) ('A', 'C', 'D') --> ['B']  \n",
      "20) ('B', 'C', 'D') --> ['A']  \n",
      "21) ('B', 'C', 'E') --> ['A']  \n",
      "22) ('A', 'D', 'E') --> ['B']  \n",
      "23) ('B', 'D', 'E') --> ['A']  \n",
      "24) ('C', 'D', 'E') --> ['A']  \n",
      "25) ('C', 'D', 'E') --> ['B']  \n"
     ]
    }
   ],
   "source": [
    "#Specify minimum support\n",
    "minimum_support = 10\n",
    "#Specify minimum confidence\n",
    "minimum_confidence = 70\n",
    "\n",
    "#To determine association rules, the abover parameters(minimum support and confidence) are passed to main function alogn with the datset\n",
    "for_rules,rules_generic = main(generic,minimum_support,minimum_confidence)\n",
    "\n",
    "#Printing all Rules which satify mininmum confidence criterion. Rules: Tansactiona --> Transaction \n",
    "print('\\n All association rules for Generic with support = {} and Confidence = {} \\n' .format(minimum_support, minimum_confidence))\n",
    "print(rules_generic,'\\n')\n",
    "print('---------------------------------------------------------------------\\n')\n",
    "#Printing Final association rules in format A,B --> C\n",
    "print(\"Final Association Rules Generic with support = {} and Confidence = {} \\n\" .format(minimum_support, minimum_confidence))\n",
    "for i in range(len(rules_generic['Rule_Confidence'])):\n",
    "    print (\"{}) {} --> {}  \".format(i+1, rules_generic['Antecedent'][i],rules_generic['Consequent'][i]))"
   ]
  }
 ],
 "metadata": {
  "kernelspec": {
   "display_name": "Python 3",
   "language": "python",
   "name": "python3"
  },
  "language_info": {
   "codemirror_mode": {
    "name": "ipython",
    "version": 3
   },
   "file_extension": ".py",
   "mimetype": "text/x-python",
   "name": "python",
   "nbconvert_exporter": "python",
   "pygments_lexer": "ipython3",
   "version": "3.8.5"
  }
 },
 "nbformat": 4,
 "nbformat_minor": 5
}
